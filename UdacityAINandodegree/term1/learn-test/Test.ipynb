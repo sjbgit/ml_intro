{
 "cells": [
  {
   "cell_type": "code",
   "execution_count": 7,
   "metadata": {
    "collapsed": false
   },
   "outputs": [
    {
     "name": "stdout",
     "output_type": "stream",
     "text": [
      "0 9\n",
      "1 8\n",
      "2 7\n",
      "3 6\n",
      "4 5\n"
     ]
    }
   ],
   "source": [
    "data = [9,8,7,6,5]\n",
    "\n",
    "for ind, obj in enumerate(data):\n",
    "    print(str(ind) + ' ' + str(obj))"
   ]
  },
  {
   "cell_type": "code",
   "execution_count": 3,
   "metadata": {
    "collapsed": false
   },
   "outputs": [
    {
     "data": {
      "text/plain": [
       "['one', 'two', 'three']"
      ]
     },
     "execution_count": 3,
     "metadata": {},
     "output_type": "execute_result"
    }
   ],
   "source": [
    "list1 = ['zero', 'one', 'two', 'three', 'four', 'five', 'six']\n",
    "[x for ind, x in enumerate(list1) if 4 > ind > 0]"
   ]
  },
  {
   "cell_type": "code",
   "execution_count": 8,
   "metadata": {
    "collapsed": false
   },
   "outputs": [
    {
     "data": {
      "text/plain": [
       "['t',\n",
       " 'h',\n",
       " 'i',\n",
       " 's',\n",
       " ' ',\n",
       " 'i',\n",
       " 's',\n",
       " ' ',\n",
       " 'j',\n",
       " 'u',\n",
       " 's',\n",
       " 't',\n",
       " ' ',\n",
       " 'a',\n",
       " ' ',\n",
       " 't',\n",
       " 'e',\n",
       " 's',\n",
       " 't']"
      ]
     },
     "execution_count": 8,
     "metadata": {},
     "output_type": "execute_result"
    }
   ],
   "source": [
    "list('this is just a test')"
   ]
  },
  {
   "cell_type": "code",
   "execution_count": null,
   "metadata": {
    "collapsed": true
   },
   "outputs": [],
   "source": [
    "from utils import *\n",
    "\n",
    "def grid_values(grid):\n",
    "    \"\"\"Convert grid string into {<box>: <value>} dict with '.' value for empties.\n",
    "\n",
    "    Args:\n",
    "        grid: Sudoku grid in string form, 81 characters long\n",
    "    Returns:\n",
    "        Sudoku grid in dictionary form:\n",
    "        - keys: Box labels, e.g. 'A1'\n",
    "        - values: Value in corresponding box, e.g. '8', or '.' if it is empty.\n",
    "    \"\"\"\n",
    "    dict = {}\n",
    "    chars = list(grid)\n",
    "    for ind, b in enumerate(boxes):\n",
    "        dict[b] = chars[ind]\n",
    "    return dict\n"
   ]
  },
  {
   "cell_type": "code",
   "execution_count": 9,
   "metadata": {
    "collapsed": false
   },
   "outputs": [
    {
     "ename": "SyntaxError",
     "evalue": "'return' outside function (<ipython-input-9-8ba9e3945fd2>, line 1)",
     "output_type": "error",
     "traceback": [
      "\u001b[0;36m  File \u001b[0;32m\"<ipython-input-9-8ba9e3945fd2>\"\u001b[0;36m, line \u001b[0;32m1\u001b[0m\n\u001b[0;31m    return dict(zip(boxes, grid))\u001b[0m\n\u001b[0m                                 ^\u001b[0m\n\u001b[0;31mSyntaxError\u001b[0m\u001b[0;31m:\u001b[0m 'return' outside function\n"
     ]
    }
   ],
   "source": [
    "return dict(zip(boxes, grid))"
   ]
  },
  {
   "cell_type": "code",
   "execution_count": null,
   "metadata": {
    "collapsed": true
   },
   "outputs": [],
   "source": [
    "assert len(grid) == 81, \"Input grid must be a string of length 81 (9x9)\"\n",
    "    return dict(zip(boxes, grid))"
   ]
  },
  {
   "cell_type": "code",
   "execution_count": null,
   "metadata": {
    "collapsed": true
   },
   "outputs": [],
   "source": [
    "def grid_values(grid):\n",
    "    \"\"\"Convert grid string into {<box>: <value>} dict with '123456789' value for empties.\n",
    "\n",
    "    Args:\n",
    "        grid: Sudoku grid in string form, 81 characters long\n",
    "    Returns:\n",
    "        Sudoku grid in dictionary form:\n",
    "        - keys: Box labels, e.g. 'A1'\n",
    "        - values: Value in corresponding box, e.g. '8', or '123456789' if it is empty.\n",
    "    \"\"\"\n",
    "    output = dict(zip(boxes, grid))\n",
    "    \n",
    "    for key in output.keys():\n",
    "        if output[key] == '.':\n",
    "            output[key] = '123456789'\n",
    "    \n",
    "    return output"
   ]
  },
  {
   "cell_type": "code",
   "execution_count": null,
   "metadata": {
    "collapsed": true
   },
   "outputs": [],
   "source": [
    "def grid_values(grid):\n",
    "    \"\"\"Convert grid string into {<box>: <value>} dict with '123456789' value for empties.\n",
    "\n",
    "    Args:\n",
    "        grid: Sudoku grid in string form, 81 characters long\n",
    "    Returns:\n",
    "        Sudoku grid in dictionary form:\n",
    "        - keys: Box labels, e.g. 'A1'\n",
    "        - values: Value in corresponding box, e.g. '8', or '123456789' if it is empty.\n",
    "    \"\"\"\n",
    "    values = []\n",
    "    all_digits = '123456789'\n",
    "    for c in grid:\n",
    "        if c == '.':\n",
    "            values.append(all_digits)\n",
    "        elif c in all_digits:\n",
    "            values.append(c)\n",
    "    assert len(values) == 81\n",
    "    return dict(zip(boxes, values))"
   ]
  },
  {
   "cell_type": "code",
   "execution_count": null,
   "metadata": {
    "collapsed": true
   },
   "outputs": [],
   "source": [
    "def only_choice(values):\n",
    "    \"\"\"Finalize all values that are the only choice for a unit.\n",
    "\n",
    "    Go through all the units, and whenever there is a unit with a value\n",
    "    that only fits in one box, assign the value to this box.\n",
    "\n",
    "    Input: Sudoku in dictionary form.\n",
    "    Output: Resulting Sudoku in dictionary form after filling in only choices.\n",
    "    \"\"\"\n",
    "    # TODO: Implement only choice strategy here\n",
    "    #print('unitlist')\n",
    "    #print(unitlist[1])\n",
    "    print(values)\n",
    "    for unit in unitlist:\n",
    "        for digit in '123456789':\n",
    "            #each box in the list of boxes - box is the dict key\n",
    "            #if there is a digit in the list of digits for a box\n",
    "            dplaces = [box for box in unit if digit in values[box]]\n",
    "            #if there is only one digitin the list of values for box, set value\n",
    "            if len(dplaces) == 1:\n",
    "                #update that first digit\n",
    "                values[dplaces[0]] = digit\n",
    "    return values"
   ]
  },
  {
   "cell_type": "code",
   "execution_count": 10,
   "metadata": {
    "collapsed": false
   },
   "outputs": [
    {
     "data": {
      "text/plain": [
       "{'A1': '4',\n",
       " 'A2': '1679',\n",
       " 'A3': '12679',\n",
       " 'A4': '139',\n",
       " 'A5': '2369',\n",
       " 'A6': '269',\n",
       " 'A7': '8',\n",
       " 'A8': '1239',\n",
       " 'A9': '5',\n",
       " 'B1': '26789',\n",
       " 'B2': '3',\n",
       " 'B3': '1256789',\n",
       " 'B4': '14589',\n",
       " 'B5': '24569',\n",
       " 'B6': '245689',\n",
       " 'B7': '12679',\n",
       " 'B8': '1249',\n",
       " 'B9': '124679',\n",
       " 'C1': '2689',\n",
       " 'C2': '15689',\n",
       " 'C3': '125689',\n",
       " 'C4': '7',\n",
       " 'C5': '234569',\n",
       " 'C6': '245689',\n",
       " 'C7': '12369',\n",
       " 'C8': '12349',\n",
       " 'C9': '123469',\n",
       " 'D1': '3789',\n",
       " 'D2': '2',\n",
       " 'D3': '15789',\n",
       " 'D4': '3459',\n",
       " 'D5': '34579',\n",
       " 'D6': '4579',\n",
       " 'D7': '13579',\n",
       " 'D8': '6',\n",
       " 'D9': '13789',\n",
       " 'E1': '3679',\n",
       " 'E2': '15679',\n",
       " 'E3': '15679',\n",
       " 'E4': '359',\n",
       " 'E5': '8',\n",
       " 'E6': '25679',\n",
       " 'E7': '4',\n",
       " 'E8': '12359',\n",
       " 'E9': '12379',\n",
       " 'F1': '36789',\n",
       " 'F2': '4',\n",
       " 'F3': '56789',\n",
       " 'F4': '359',\n",
       " 'F5': '1',\n",
       " 'F6': '25679',\n",
       " 'F7': '23579',\n",
       " 'F8': '23589',\n",
       " 'F9': '23789',\n",
       " 'G1': '289',\n",
       " 'G2': '89',\n",
       " 'G3': '289',\n",
       " 'G4': '6',\n",
       " 'G5': '459',\n",
       " 'G6': '3',\n",
       " 'G7': '1259',\n",
       " 'G8': '7',\n",
       " 'G9': '12489',\n",
       " 'H1': '5',\n",
       " 'H2': '6789',\n",
       " 'H3': '3',\n",
       " 'H4': '2',\n",
       " 'H5': '479',\n",
       " 'H6': '1',\n",
       " 'H7': '69',\n",
       " 'H8': '489',\n",
       " 'H9': '4689',\n",
       " 'I1': '1',\n",
       " 'I2': '6789',\n",
       " 'I3': '4',\n",
       " 'I4': '589',\n",
       " 'I5': '579',\n",
       " 'I6': '5789',\n",
       " 'I7': '23569',\n",
       " 'I8': '23589',\n",
       " 'I9': '23689'}"
      ]
     },
     "execution_count": 10,
     "metadata": {},
     "output_type": "execute_result"
    }
   ],
   "source": [
    "values = {'G1': '289', 'C4': '7', 'G3': '289', 'A4': '139', 'A7': '8', 'G7': '1259', 'C9': '123469', 'A2': '1679', 'E4': '359', 'F3': '56789', 'H7': '69', 'I3': '4', 'B3': '1256789', 'B7': '12679', 'B2': '3', 'D5': '34579', 'G5': '459', 'G2': '89', 'E8': '12359', 'D4': '3459', 'H9': '4689', 'E5': '8', 'F7': '23579', 'F9': '23789', 'E3': '15679', 'D1': '3789', 'H4': '2', 'I5': '579', 'D7': '13579', 'E6': '25679', 'C6': '245689', 'B9': '124679', 'B4': '14589', 'A1': '4', 'B1': '26789', 'B8': '1249', 'A9': '5', 'F2': '4', 'H1': '5', 'E7': '4', 'I2': '6789', 'F6': '25679', 'H6': '1', 'F8': '23589', 'A8': '1239', 'C1': '2689', 'C2': '15689', 'E1': '3679', 'F1': '36789', 'I8': '23589', 'D9': '13789', 'A5': '2369', 'D2': '2', 'I1': '1', 'G8': '7', 'F4': '359', 'D3': '15789', 'F5': '1', 'B5': '24569', 'H3': '3', 'A3': '12679', 'C5': '234569', 'I4': '589', 'E2': '15679', 'D8': '6', 'A6': '269', 'B6': '245689', 'C8': '12349', 'I7': '23569', 'C7': '12369', 'I9': '23689', 'C3': '125689', 'H8': '489', 'H5': '479', 'D6': '4579', 'G4': '6', 'I6': '5789', 'G9': '12489', 'G6': '3', 'E9': '12379', 'H2': '6789'}\n",
    "{'G1': '289', 'C4': '7', 'G3': '289', 'A4': '139', 'A7': '8', 'G7': '1259', 'C9': '123469', 'A2': '1679', 'E4': '359', 'F3': '56789', 'H7': '69', 'I3': '4', 'B3': '1256789', 'B7': '12679', 'B2': '3', 'D5': '34579', 'G5': '459', 'G2': '89', 'E8': '12359', 'D4': '3459', 'H9': '4689', 'E5': '8', 'F7': '23579', 'F9': '23789', 'E3': '15679', 'D1': '3789', 'H4': '2', 'I5': '579', 'D7': '13579', 'E6': '25679', 'C6': '245689', 'B9': '124679', 'B4': '14589', 'A1': '4', 'B1': '26789', 'B8': '1249', 'A9': '5', 'F2': '4', 'H1': '5', 'E7': '4', 'I2': '6789', 'F6': '25679', 'H6': '1', 'F8': '23589', 'A8': '1239', 'C1': '2689', 'C2': '15689', 'E1': '3679', 'F1': '36789', 'I8': '23589', 'D9': '13789', 'A5': '2369', 'D2': '2', 'I1': '1', 'G8': '7', 'F4': '359', 'D3': '15789', 'F5': '1', 'B5': '24569', 'H3': '3', 'A3': '12679', 'C5': '234569', 'I4': '589', 'E2': '15679', 'D8': '6', 'A6': '269', 'B6': '245689', 'C8': '12349', 'I7': '23569', 'C7': '12369', 'I9': '23689', 'C3': '125689', 'H8': '489', 'H5': '479', 'D6': '4579', 'G4': '6', 'I6': '5789', 'G9': '12489', 'G6': '3', 'E9': '12379', 'H2': '6789'}"
   ]
  },
  {
   "cell_type": "code",
   "execution_count": 15,
   "metadata": {
    "collapsed": false
   },
   "outputs": [
    {
     "data": {
      "text/plain": [
       "['H7', '69']"
      ]
     },
     "execution_count": 15,
     "metadata": {},
     "output_type": "execute_result"
    }
   ],
   "source": [
    "list_key_value = [[k,v] for k, v in values.items() if len(v) == 2 ][0]\n",
    "list_key_value"
   ]
  },
  {
   "cell_type": "code",
   "execution_count": 21,
   "metadata": {
    "collapsed": false
   },
   "outputs": [
    {
     "data": {
      "text/plain": [
       "['H7', '69']"
      ]
     },
     "execution_count": 21,
     "metadata": {},
     "output_type": "execute_result"
    }
   ],
   "source": [
    "short_list = [[k,v] for k, v in values.items() if len(v) == 2 ][0]\n",
    "short_list"
   ]
  },
  {
   "cell_type": "code",
   "execution_count": 22,
   "metadata": {
    "collapsed": true
   },
   "outputs": [],
   "source": [
    "dic = { short_list[0], short_list[1] }"
   ]
  },
  {
   "cell_type": "code",
   "execution_count": 23,
   "metadata": {
    "collapsed": false
   },
   "outputs": [
    {
     "name": "stdout",
     "output_type": "stream",
     "text": [
      "{'H7', '69'}\n"
     ]
    }
   ],
   "source": [
    "print(dic)"
   ]
  },
  {
   "cell_type": "code",
   "execution_count": 24,
   "metadata": {
    "collapsed": false
   },
   "outputs": [
    {
     "ename": "NameError",
     "evalue": "name 'boxes' is not defined",
     "output_type": "error",
     "traceback": [
      "\u001b[0;31m---------------------------------------------------------------------------\u001b[0m",
      "\u001b[0;31mNameError\u001b[0m                                 Traceback (most recent call last)",
      "\u001b[0;32m<ipython-input-24-38e34ad34eef>\u001b[0m in \u001b[0;36m<module>\u001b[0;34m()\u001b[0m\n\u001b[0;32m----> 1\u001b[0;31m \u001b[0mn\u001b[0m\u001b[0;34m,\u001b[0m\u001b[0ms\u001b[0m \u001b[0;34m=\u001b[0m \u001b[0mmin\u001b[0m\u001b[0;34m(\u001b[0m\u001b[0;34m(\u001b[0m\u001b[0mlen\u001b[0m\u001b[0;34m(\u001b[0m\u001b[0mvalues\u001b[0m\u001b[0;34m[\u001b[0m\u001b[0ms\u001b[0m\u001b[0;34m]\u001b[0m\u001b[0;34m)\u001b[0m\u001b[0;34m,\u001b[0m \u001b[0ms\u001b[0m\u001b[0;34m)\u001b[0m \u001b[0;32mfor\u001b[0m \u001b[0ms\u001b[0m \u001b[0;32min\u001b[0m \u001b[0mboxes\u001b[0m \u001b[0;32mif\u001b[0m \u001b[0mlen\u001b[0m\u001b[0;34m(\u001b[0m\u001b[0mvalues\u001b[0m\u001b[0;34m[\u001b[0m\u001b[0ms\u001b[0m\u001b[0;34m]\u001b[0m\u001b[0;34m)\u001b[0m \u001b[0;34m>\u001b[0m \u001b[0;36m1\u001b[0m\u001b[0;34m)\u001b[0m\u001b[0;34m\u001b[0m\u001b[0m\n\u001b[0m",
      "\u001b[0;31mNameError\u001b[0m: name 'boxes' is not defined"
     ]
    }
   ],
   "source": [
    "n,s = min((len(values[s]), s) for s in boxes if len(values[s]) > 1)"
   ]
  },
  {
   "cell_type": "code",
   "execution_count": 26,
   "metadata": {
    "collapsed": false
   },
   "outputs": [
    {
     "ename": "NameError",
     "evalue": "name 's' is not defined",
     "output_type": "error",
     "traceback": [
      "\u001b[0;31m---------------------------------------------------------------------------\u001b[0m",
      "\u001b[0;31mNameError\u001b[0m                                 Traceback (most recent call last)",
      "\u001b[0;32m<ipython-input-26-baf871c81382>\u001b[0m in \u001b[0;36m<module>\u001b[0;34m()\u001b[0m\n\u001b[0;32m----> 1\u001b[0;31m \u001b[0ms\u001b[0m \u001b[0;34m=\u001b[0m \u001b[0mmin\u001b[0m\u001b[0;34m(\u001b[0m\u001b[0;34m(\u001b[0m\u001b[0mlen\u001b[0m\u001b[0;34m(\u001b[0m\u001b[0mvalues\u001b[0m\u001b[0;34m[\u001b[0m\u001b[0ms\u001b[0m\u001b[0;34m]\u001b[0m\u001b[0;34m)\u001b[0m\u001b[0;34m,\u001b[0m \u001b[0ms\u001b[0m\u001b[0;34m)\u001b[0m\u001b[0;34m)\u001b[0m\u001b[0;34m\u001b[0m\u001b[0m\n\u001b[0m",
      "\u001b[0;31mNameError\u001b[0m: name 's' is not defined"
     ]
    }
   ],
   "source": [
    "s = min((len(values[s]), s))"
   ]
  },
  {
   "cell_type": "code",
   "execution_count": null,
   "metadata": {
    "collapsed": true
   },
   "outputs": [],
   "source": []
  }
 ],
 "metadata": {
  "anaconda-cloud": {},
  "kernelspec": {
   "display_name": "Python [conda env:dlnd]",
   "language": "python",
   "name": "conda-env-dlnd-py"
  },
  "language_info": {
   "codemirror_mode": {
    "name": "ipython",
    "version": 3
   },
   "file_extension": ".py",
   "mimetype": "text/x-python",
   "name": "python",
   "nbconvert_exporter": "python",
   "pygments_lexer": "ipython3",
   "version": "3.6.0"
  }
 },
 "nbformat": 4,
 "nbformat_minor": 1
}
